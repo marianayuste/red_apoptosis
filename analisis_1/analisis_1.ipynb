{
 "cells": [
  {
   "cell_type": "code",
   "execution_count": 101,
   "id": "5b465b06",
   "metadata": {},
   "outputs": [],
   "source": [
    "import os"
   ]
  },
  {
   "cell_type": "code",
   "execution_count": 102,
   "id": "a91148c7",
   "metadata": {},
   "outputs": [],
   "source": [
    "os.chdir('/Users/mariana/Dropbox/redes_alfredo/red_apoptosis')"
   ]
  },
  {
   "cell_type": "code",
   "execution_count": 103,
   "id": "10b15d69",
   "metadata": {
    "scrolled": true
   },
   "outputs": [],
   "source": [
    "run functions.ipynb"
   ]
  },
  {
   "cell_type": "code",
   "execution_count": 104,
   "id": "4039ae56",
   "metadata": {},
   "outputs": [
    {
     "name": "stdout",
     "output_type": "stream",
     "text": [
      "nodos en nodes\n",
      "regulaciones en rules\n",
      "total de regulaciones en total_rules\n",
      "total de renglones de la tabla de verdad de cada nodo en renglones\n"
     ]
    }
   ],
   "source": [
    "run data.ipynb #para obtener nodos"
   ]
  },
  {
   "cell_type": "code",
   "execution_count": 105,
   "id": "592c438a",
   "metadata": {},
   "outputs": [],
   "source": [
    "os.chdir('/Users/mariana/Dropbox/redes_alfredo/red_apoptosis/analisis_1')"
   ]
  },
  {
   "cell_type": "markdown",
   "id": "7d9f8776",
   "metadata": {},
   "source": [
    "# Analizar los attrs de las redes perturbadas generados en analisis_1.R\n",
    "### aquí primero los paso a binario y así los comparo\n",
    "### abajo (sig sección del código) no lo hago y leo los attrs (original y perturbados) como aparecen en los archivos .txt donde se guardaron (en decimal)"
   ]
  },
  {
   "cell_type": "code",
   "execution_count": 61,
   "id": "4ba1d440",
   "metadata": {},
   "outputs": [
    {
     "data": {
      "text/plain": [
       "['000000000000000000000000101111',\n",
       " '000000000000000000011111000000',\n",
       " '000000000000000110110000101111',\n",
       " '000000000000001010110000101111',\n",
       " '000000000000001110110000101111',\n",
       " '000000100000000000000000101111',\n",
       " '000000100000000000000001001111',\n",
       " '000000100000000000000010001111',\n",
       " '000000100000000000011110101111',\n",
       " '000000100000000110110000101111',\n",
       " '000000100000001010110000101111',\n",
       " '000000100000001110110000101111']"
      ]
     },
     "execution_count": 61,
     "metadata": {},
     "output_type": "execute_result"
    }
   ],
   "source": [
    "# Leer attrs de la red original\n",
    "os.chdir('/Users/mariana/Dropbox/redes_alfredo/red_apoptosis')\n",
    "f = open('original_attrs.txt','r').read() #abrir archivo\n",
    "l = f.replace('\\n','').split(' ') #lista con attrs en string decimal\n",
    "b = []\n",
    "for a in l: #pasar a binario\n",
    "    b.append(bin(int(a))[2:]) \n",
    "attrs_original = []\n",
    "for a in b:\n",
    "    attrs_original.append(a.zfill(len(nodes))[::-1]) #atractores binario con los ceros que les falten y volteados en orden correcto de genes\n",
    "attrs_original.sort()\n",
    "attrs_original"
   ]
  },
  {
   "cell_type": "code",
   "execution_count": 63,
   "id": "006007b2",
   "metadata": {},
   "outputs": [],
   "source": [
    "# Leer attrs generados en analisis_1.R\n",
    "    # se guardarán en dict. attrs, con los attrs obtenidos en cada perturbación a cada nodo\n",
    "os.chdir('/Users/mariana/Dropbox/redes_alfredo/red_apoptosis/analisis_1')\n",
    "\n",
    "#nums = lista con numero de los documentos .txt que tienen a los attrs \n",
    "no_leer = [0,60,61,62,63,64,144] #no leer estos .txt pues cometí errores al nombrarlos/crearlos \n",
    "nums = list(range(200)) #los nombres de los .txt que leeremos\n",
    "for n in no_leer:\n",
    "    nums.remove(n)\n",
    "    \n",
    "attrs = {k:[] for k in nodes}\n",
    "i = 0\n",
    "for n in range(len(nodes)):\n",
    "    for p in range(total_rules[n]): #para cada perturbación a dicho nodo\n",
    "        per = nums[i]\n",
    "        name = 'attr_'+str(per)+'.txt'\n",
    "        f = open(name,'r').read() #abrir archivo\n",
    "        l = f.replace('\\n','').split(' ') #lista con attrs (en decimal) en string\n",
    "        b = []\n",
    "        for a in l: b.append(bin(int(a))[2:]) #pasar a binario\n",
    "        t = []\n",
    "        for a in b: t.append(a.zfill(len(nodes))[::-1]) #atractores binario con los ceros que les falten y volteados en orden correcto de genes\n",
    "        attrs[nodes[n]].append(sorted(t))\n",
    "        i+=1\n"
   ]
  },
  {
   "cell_type": "code",
   "execution_count": 64,
   "id": "6abd28ed",
   "metadata": {},
   "outputs": [],
   "source": [
    "#checar qué perturbaciones generaron cambios en los attrs originales\n",
    "diff = {}\n",
    "iguales = {}\n",
    "for n in range(len(nodes)):\n",
    "    diff[nodes[n]] = []\n",
    "    iguales[nodes[n]] = []\n",
    "    for p in attrs[nodes[n]]:\n",
    "        if p != attrs_original:\n",
    "            diff[nodes[n]].append(p)\n",
    "        elif p == attrs_original:\n",
    "            iguales[nodes[n]].append(p)"
   ]
  },
  {
   "cell_type": "code",
   "execution_count": 112,
   "id": "9dbb5ad6",
   "metadata": {
    "scrolled": false
   },
   "outputs": [
    {
     "name": "stdout",
     "output_type": "stream",
     "text": [
      "diferentes\n",
      "ICL 3 de 3\n",
      "FAcore 5 de 6\n",
      "FANCD2I 2 de 3\n",
      "Nuc1 0 de 3\n",
      "RNF4 1 de 2\n",
      "Nuc2 0 de 8\n",
      "ADD 2 de 4\n",
      "DSB 2 de 10\n",
      "TLS 2 de 2\n",
      "FAhrr 0 de 13\n",
      "HRR2 1 de 5\n",
      "NHEJ 8 de 12\n",
      "TNFa 4 de 5\n",
      "p38MAPK 1 de 2\n",
      "ATR 3 de 6\n",
      "ATM 4 de 7\n",
      "p530 2 de 6\n",
      "MDM2 1 de 3\n",
      "p53a0 4 de 6\n",
      "p21 2 de 2\n",
      "p53aRE 2 de 4\n",
      "p53k0 2 de 35\n",
      "p53kRE 3 de 5\n",
      "CASP3 2 de 3\n",
      "IAP 1 de 1\n",
      "Wip1 2 de 2\n",
      "CDK1_AurA 1 de 6\n",
      "Plk1 3 de 8\n",
      "CDC25 2 de 7\n",
      "CycB_CDK1 2 de 6\n",
      "\n",
      "iguales\n",
      "ICL 0 de 3\n",
      "FAcore 1 de 6\n",
      "FANCD2I 1 de 3\n",
      "Nuc1 3 de 3\n",
      "RNF4 1 de 2\n",
      "Nuc2 8 de 8\n",
      "ADD 2 de 4\n",
      "DSB 8 de 10\n",
      "TLS 0 de 2\n",
      "FAhrr 13 de 13\n",
      "HRR2 4 de 5\n",
      "NHEJ 4 de 12\n",
      "TNFa 1 de 5\n",
      "p38MAPK 1 de 2\n",
      "ATR 3 de 6\n",
      "ATM 3 de 7\n",
      "p530 4 de 6\n",
      "MDM2 2 de 3\n",
      "p53a0 2 de 6\n",
      "p21 0 de 2\n",
      "p53aRE 2 de 4\n",
      "p53k0 33 de 35\n",
      "p53kRE 2 de 5\n",
      "CASP3 1 de 3\n",
      "IAP 0 de 1\n",
      "Wip1 0 de 2\n",
      "CDK1_AurA 5 de 6\n",
      "Plk1 5 de 8\n",
      "CDC25 5 de 7\n",
      "CycB_CDK1 4 de 6\n",
      "\n",
      "Total diferentes: 67 (de 185 perturbaciones)\n",
      "Total iguales: 118 (de 185 perturbaciones)\n",
      "63.8 porciento de perturbaciones sin cambios en los atractores\n"
     ]
    }
   ],
   "source": [
    "total_dif = 0\n",
    "print('diferentes')\n",
    "lista_dif = []\n",
    "for a in diff:\n",
    "    index = nodes.index(a)\n",
    "    print(a,len(diff[a]),'de',total_rules[index])\n",
    "    total_dif += len(diff[a])\n",
    "    lista_dif.append(len(diff[a]))\n",
    "\n",
    "total_i = 0\n",
    "print('\\niguales')\n",
    "lista_i = []\n",
    "for a in iguales:\n",
    "    index = nodes.index(a)\n",
    "    print(a,len(iguales[a]),'de',total_rules[index])\n",
    "    total_i += len(iguales[a])\n",
    "    lista_i.append(len(iguales[a]))\n",
    "    \n",
    "pert = sum(total_rules)\n",
    "print('\\nTotal diferentes:',total_dif,'(de %s perturbaciones)'%(pert))\n",
    "print('Total iguales:',total_i,'(de %s perturbaciones)'%(pert))\n",
    "print('%s porciento de perturbaciones sin cambios en los atractores'%(round(100*(total_i)/pert,1)))\n"
   ]
  },
  {
   "cell_type": "code",
   "execution_count": 66,
   "id": "559fca54",
   "metadata": {},
   "outputs": [],
   "source": [
    "#checar cuales no suman\n",
    "for n in nodes:\n",
    "    index = nodes.index(n)\n",
    "    d = len(diff[n])\n",
    "    i = len(iguales[n])\n",
    "    t = total_rules[index]\n",
    "    if d+i != t:\n",
    "        print(n,d,i,t)\n"
   ]
  },
  {
   "cell_type": "code",
   "execution_count": 108,
   "id": "60d20e3a",
   "metadata": {},
   "outputs": [
    {
     "data": {
      "text/plain": [
       "0"
      ]
     },
     "execution_count": 108,
     "metadata": {},
     "output_type": "execute_result"
    }
   ],
   "source": [
    "copiar(total_rules)"
   ]
  },
  {
   "cell_type": "code",
   "execution_count": 111,
   "id": "76cc5a8e",
   "metadata": {},
   "outputs": [
    {
     "data": {
      "text/plain": [
       "185"
      ]
     },
     "execution_count": 111,
     "metadata": {},
     "output_type": "execute_result"
    }
   ],
   "source": [
    "sum(total_rules)"
   ]
  }
 ],
 "metadata": {
  "kernelspec": {
   "display_name": "Python 3 (ipykernel)",
   "language": "python",
   "name": "python3"
  },
  "language_info": {
   "codemirror_mode": {
    "name": "ipython",
    "version": 3
   },
   "file_extension": ".py",
   "mimetype": "text/x-python",
   "name": "python",
   "nbconvert_exporter": "python",
   "pygments_lexer": "ipython3",
   "version": "3.11.5"
  }
 },
 "nbformat": 4,
 "nbformat_minor": 5
}
