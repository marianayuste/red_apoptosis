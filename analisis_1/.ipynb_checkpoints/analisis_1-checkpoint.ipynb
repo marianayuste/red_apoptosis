{
 "cells": [
  {
   "cell_type": "code",
   "execution_count": 15,
   "id": "5b465b06",
   "metadata": {},
   "outputs": [],
   "source": [
    "import os"
   ]
  },
  {
   "cell_type": "code",
   "execution_count": 16,
   "id": "a91148c7",
   "metadata": {},
   "outputs": [],
   "source": [
    "os.chdir('/Users/mariana/Dropbox/redes_alfredo/red_apoptosis')"
   ]
  },
  {
   "cell_type": "code",
   "execution_count": 17,
   "id": "10b15d69",
   "metadata": {
    "scrolled": true
   },
   "outputs": [],
   "source": [
    "run functions.ipynb"
   ]
  },
  {
   "cell_type": "code",
   "execution_count": 18,
   "id": "4039ae56",
   "metadata": {},
   "outputs": [
    {
     "name": "stdout",
     "output_type": "stream",
     "text": [
      "nodos en nodes\n",
      "regulaciones en reg\n",
      "total de regulaciones en total_reg\n"
     ]
    }
   ],
   "source": [
    "run data.ipynb #para obtener nodos"
   ]
  },
  {
   "cell_type": "code",
   "execution_count": 19,
   "id": "592c438a",
   "metadata": {},
   "outputs": [],
   "source": [
    "os.chdir('/Users/mariana/Dropbox/redes_alfredo/red_apoptosis/analisis_1')"
   ]
  },
  {
   "cell_type": "markdown",
   "id": "7d9f8776",
   "metadata": {},
   "source": [
    "# Analizar los attrs de las redes perturbadas generados en analisis_1.R"
   ]
  },
  {
   "cell_type": "code",
   "execution_count": null,
   "id": "4ba1d440",
   "metadata": {},
   "outputs": [],
   "source": [
    "# Leer attrs de la red original\n",
    "os.chdir('/Users/mariana/Dropbox/redes_alfredo/red_apoptosis')\n",
    "f = open('original_attrs.txt','r').read() #abrir archivo\n",
    "l = f.replace('\\n','').split(' ') #lista con attrs en string decimal\n",
    "b = []\n",
    "for a in l: #pasar a binario\n",
    "    b.append(bin(int(a))[2:]) \n",
    "attrs_original = []\n",
    "for a in b:\n",
    "    attrs_original.append(a.zfill(22)[::-1]) #atractores binario con los ceros que les falten y volteados en orden correcto de genes\n",
    "attrs_original.sort()\n",
    "attrs_original"
   ]
  },
  {
   "cell_type": "code",
   "execution_count": 20,
   "id": "006007b2",
   "metadata": {},
   "outputs": [],
   "source": [
    "# Leer attrs generados en analisis_1.R\n",
    "os.chdir('/Users/mariana/Dropbox/redes_alfredo/red_apoptosis/analisis_1')\n",
    "attrs = {}\n",
    "i = 1\n",
    "#for n in range(len(nodes)):\n",
    "for n in range(5):\n",
    "    attrs[nodes[n]] = []\n",
    "    for p in range(total_reg[n]):\n",
    "        name = 'attr_'+str(i)+'.txt'\n",
    "        f = open(name,'r').read() #abrir archivo\n",
    "        l = f.replace('\\n','').split(' ') #lista con attrs en string decimal\n",
    "        b = []\n",
    "        for a in l: b.append(bin(int(a))[2:]) #pasar a binario\n",
    "        t = []\n",
    "        for a in b: t.append(a.zfill(22)[::-1]) #atractores binario con los ceros que les falten y volteados en orden correcto de genes\n",
    "        attrs[nodes[n]].append(sorted(t))"
   ]
  },
  {
   "cell_type": "code",
   "execution_count": 24,
   "id": "9dbb5ad6",
   "metadata": {},
   "outputs": [
    {
     "data": {
      "text/plain": [
       "30"
      ]
     },
     "execution_count": 24,
     "metadata": {},
     "output_type": "execute_result"
    }
   ],
   "source": [
    "#checar qué perturbaciones generaron cambios en los attrs originales\n",
    "diff = {}\n",
    "iguales = {}\n",
    "for n in range(len(nodes)):\n",
    "    diff[nodes[n]] = []\n",
    "    iguales[nodes[n]] = []\n",
    "    for p in attrs[nodes[n]]:\n",
    "        if p != attrs_original:\n",
    "            diff[nodes[n]].append(p)\n",
    "        elif p == attrs_original:\n",
    "            iguales[nodes[n]].append(p)\n",
    "total_dif = 0\n",
    "print('diferentes')\n",
    "for a in diff:\n",
    "    print(a,len(diff[a]))\n",
    "    total_dif += len(diff[a])\n",
    "\n",
    "total_i = 0\n",
    "print('iguales')\n",
    "for a in iguales:\n",
    "    print(a,len(iguales[a]))\n",
    "    total_i += len(iguales[a])    \n",
    "    \n",
    "print('Total diferentes:',total_dif,'(de %s perturbaciones)'%(sum(pert)))\n",
    "print('Total iguales:',total_i,'(de %s perturbaciones)'%(sum(pert)))\n",
    "print('%s porciento de perturbaciones sin cambios en los atractores'%(round((sum(pert)-total)/sum(pert),4)))\n"
   ]
  },
  {
   "cell_type": "code",
   "execution_count": null,
   "id": "c3e40ce7",
   "metadata": {},
   "outputs": [],
   "source": []
  }
 ],
 "metadata": {
  "kernelspec": {
   "display_name": "Python 3 (ipykernel)",
   "language": "python",
   "name": "python3"
  },
  "language_info": {
   "codemirror_mode": {
    "name": "ipython",
    "version": 3
   },
   "file_extension": ".py",
   "mimetype": "text/x-python",
   "name": "python",
   "nbconvert_exporter": "python",
   "pygments_lexer": "ipython3",
   "version": "3.11.5"
  }
 },
 "nbformat": 4,
 "nbformat_minor": 5
}
