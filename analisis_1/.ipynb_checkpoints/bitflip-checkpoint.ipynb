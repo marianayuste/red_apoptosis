{
 "cells": [
  {
   "cell_type": "code",
   "execution_count": 3,
   "id": "5b465b06",
   "metadata": {},
   "outputs": [],
   "source": [
    "import os"
   ]
  },
  {
   "cell_type": "code",
   "execution_count": 4,
   "id": "a91148c7",
   "metadata": {},
   "outputs": [],
   "source": [
    "os.chdir('/Users/mariana/Dropbox/redes_alfredo/red_apoptosis')"
   ]
  },
  {
   "cell_type": "code",
   "execution_count": 5,
   "id": "10b15d69",
   "metadata": {
    "scrolled": true
   },
   "outputs": [],
   "source": [
    "run functions.ipynb"
   ]
  },
  {
   "cell_type": "code",
   "execution_count": 6,
   "id": "4039ae56",
   "metadata": {},
   "outputs": [],
   "source": [
    "run data.ipynb"
   ]
  },
  {
   "cell_type": "code",
   "execution_count": 7,
   "id": "592c438a",
   "metadata": {},
   "outputs": [
    {
     "ename": "FileNotFoundError",
     "evalue": "[Errno 2] No such file or directory: '/Users/mariana/Dropbox/redes_alfredo/red_apoptosis/analisis_2'",
     "output_type": "error",
     "traceback": [
      "\u001b[0;31m---------------------------------------------------------------------------\u001b[0m",
      "\u001b[0;31mFileNotFoundError\u001b[0m                         Traceback (most recent call last)",
      "Cell \u001b[0;32mIn[7], line 1\u001b[0m\n\u001b[0;32m----> 1\u001b[0m os\u001b[38;5;241m.\u001b[39mchdir(\u001b[38;5;124m'\u001b[39m\u001b[38;5;124m/Users/mariana/Dropbox/redes_alfredo/red_apoptosis/analisis_2\u001b[39m\u001b[38;5;124m'\u001b[39m)\n",
      "\u001b[0;31mFileNotFoundError\u001b[0m: [Errno 2] No such file or directory: '/Users/mariana/Dropbox/redes_alfredo/red_apoptosis/analisis_2'"
     ]
    }
   ],
   "source": [
    "os.chdir('/Users/mariana/Dropbox/redes_alfredo/red_apoptosis/analisis_2')"
   ]
  },
  {
   "cell_type": "markdown",
   "id": "8cec7a85",
   "metadata": {},
   "source": [
    "# Generar redes perturbadas"
   ]
  },
  {
   "cell_type": "code",
   "execution_count": null,
   "id": "fd97ede6",
   "metadata": {},
   "outputs": [],
   "source": [
    "#crear cada una de las redes perturbadas y guardarlas en .txt formato boolnet\n",
    "\n",
    "for n in range(len(nodes)):\n",
    "    r = regla_tipo_griffin(rules.split(';')[n],nodes) #regla original del nodo n\n",
    "    r_per = reglas_perturbadas(r) #todas las perturbaciones de la regla del nodo n\n",
    "    \n",
    "    #crear red con cada perturbación\n",
    "    for j in r_per: \n",
    "        arr = np.array([['targets,', 'factors']])\n",
    "        for i in range(len(nodes)):\n",
    "            if i!=n: #si no es el nodo perturbado guardar regla normal\n",
    "                arr = np.append(arr,[[nodes[i]+',',rules.split(';')[i]]],axis=0)\n",
    "            else: #si es el nodo n, guardar regla perturbada\n",
    "                arr = np.append(arr,[[nodes[i]+',',r_per[j].replace('~','!')]],axis=0)\n",
    "        np.savetxt(nodes[n]+'_'+str(j)+'.txt',arr,fmt='%s')\n",
    "\n",
    "'''"
   ]
  }
 ],
 "metadata": {
  "kernelspec": {
   "display_name": "Python 3 (ipykernel)",
   "language": "python",
   "name": "python3"
  },
  "language_info": {
   "codemirror_mode": {
    "name": "ipython",
    "version": 3
   },
   "file_extension": ".py",
   "mimetype": "text/x-python",
   "name": "python",
   "nbconvert_exporter": "python",
   "pygments_lexer": "ipython3",
   "version": "3.11.5"
  }
 },
 "nbformat": 4,
 "nbformat_minor": 5
}
