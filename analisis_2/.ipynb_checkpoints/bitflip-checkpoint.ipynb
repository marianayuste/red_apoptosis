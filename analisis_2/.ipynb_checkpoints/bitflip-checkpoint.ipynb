{
 "cells": [
  {
   "cell_type": "code",
   "execution_count": 1,
   "id": "5b465b06",
   "metadata": {},
   "outputs": [],
   "source": [
    "import os\n",
    "import random"
   ]
  },
  {
   "cell_type": "code",
   "execution_count": 2,
   "id": "a91148c7",
   "metadata": {},
   "outputs": [],
   "source": [
    "os.chdir('/Users/mariana/Dropbox/redes_alfredo/red_apoptosis')"
   ]
  },
  {
   "cell_type": "code",
   "execution_count": 3,
   "id": "10b15d69",
   "metadata": {
    "scrolled": true
   },
   "outputs": [],
   "source": [
    "run functions.ipynb"
   ]
  },
  {
   "cell_type": "code",
   "execution_count": 4,
   "id": "4039ae56",
   "metadata": {},
   "outputs": [
    {
     "name": "stdout",
     "output_type": "stream",
     "text": [
      "[3, 6, 3, 3, 2, 8, 4, 10, 2, 13, 5, 12, 5, 2, 6, 7, 6, 3, 6, 2, 4, 35, 5, 3, 1, 2, 6, 8, 7, 6]\n",
      "nodos en nodes\n",
      "regulaciones en rules\n",
      "total de regulaciones en total_rules\n"
     ]
    }
   ],
   "source": [
    "run data.ipynb"
   ]
  },
  {
   "cell_type": "code",
   "execution_count": 5,
   "id": "592c438a",
   "metadata": {},
   "outputs": [],
   "source": [
    "os.chdir('/Users/mariana/Dropbox/redes_alfredo/red_apoptosis/analisis_2')"
   ]
  },
  {
   "cell_type": "markdown",
   "id": "8cec7a85",
   "metadata": {},
   "source": [
    "# Generar redes perturbadas\n",
    "### Sólo generar 150 redes perturbadas elegidas al azar\n",
    "### Las elegidas estarán en documento elegidas.txt"
   ]
  },
  {
   "cell_type": "code",
   "execution_count": 99,
   "id": "7e268b8a",
   "metadata": {},
   "outputs": [],
   "source": [
    "#elegir las redes a usar\n",
    "os.chdir('/Users/mariana/Dropbox/redes_alfredo/red_apoptosis/analisis_2/perturbaciones')\n",
    "e = {k:[] for k in nodes}\n",
    "total = 0\n",
    "while total < 150:\n",
    "    nod = random.randrange(len(nodes))\n",
    "    per = random.randrange(total_rules[nod])\n",
    "    if per not in e[nodes[nod]]:\n",
    "        e[nodes[nod]].append(per)\n",
    "    total = sum([len(e[k]) for k in e])\n",
    "\n",
    "#convertir a array\n",
    "elegidas = np.zeros((150,2),dtype=object)\n",
    "n = 0\n",
    "for i in e:\n",
    "    for ii in e[i]:\n",
    "        elegidas[n] = [i,str(ii)]\n",
    "        n+=1\n",
    "\n",
    "#guardar en .txt\n",
    "with open('elegidas.txt','w') as file:\n",
    "    for line in elegidas:\n",
    "        file.write(','.join(line) + ';')"
   ]
  },
  {
   "cell_type": "code",
   "execution_count": 116,
   "id": "fd97ede6",
   "metadata": {},
   "outputs": [
    {
     "name": "stdout",
     "output_type": "stream",
     "text": [
      "0 0\n",
      "0 1\n",
      "0 2\n",
      "1 5\n",
      "1 0\n",
      "1 4\n",
      "1 3\n",
      "1 1\n",
      "1 2\n",
      "2 2\n",
      "2 0\n",
      "2 1\n",
      "3 1\n",
      "3 0\n",
      "3 2\n",
      "4 0\n",
      "4 1\n",
      "5 5\n",
      "5 6\n",
      "5 3\n",
      "5 4\n",
      "5 1\n",
      "6 2\n",
      "6 3\n",
      "6 0\n",
      "6 1\n",
      "7 7\n",
      "7 6\n",
      "7 5\n",
      "7 2\n",
      "7 1\n",
      "7 3\n",
      "7 8\n",
      "7 4\n",
      "7 0\n",
      "7 9\n",
      "8 0\n",
      "8 1\n",
      "9 11\n",
      "9 12\n",
      "9 2\n",
      "9 9\n",
      "9 1\n",
      "9 8\n",
      "9 5\n",
      "9 3\n",
      "9 7\n",
      "9 10\n"
     ]
    },
    {
     "ename": "NameError",
     "evalue": "name 'CycB' is not defined",
     "output_type": "error",
     "traceback": [
      "\u001b[0;31m---------------------------------------------------------------------------\u001b[0m",
      "\u001b[0;31mNameError\u001b[0m                                 Traceback (most recent call last)",
      "Cell \u001b[0;32mIn[116], line 6\u001b[0m\n\u001b[1;32m      3\u001b[0m \u001b[38;5;28;01mfor\u001b[39;00m e \u001b[38;5;129;01min\u001b[39;00m \u001b[38;5;28mrange\u001b[39m(\u001b[38;5;241m150\u001b[39m):\n\u001b[1;32m      4\u001b[0m     index_nodo \u001b[38;5;241m=\u001b[39m nodes\u001b[38;5;241m.\u001b[39mindex(elegidas[e][\u001b[38;5;241m0\u001b[39m])\n\u001b[0;32m----> 6\u001b[0m     r \u001b[38;5;241m=\u001b[39m regla_tipo_griffin(rules[index_nodo],nodes) \u001b[38;5;66;03m#regla original del nodo n\u001b[39;00m\n\u001b[1;32m      7\u001b[0m     \u001b[38;5;66;03m#r_per = reglas_perturbadas(r)[elegidas[e][1]] #la regla con la perturbacion elegida\u001b[39;00m\n\u001b[1;32m      9\u001b[0m     \u001b[38;5;28mprint\u001b[39m(index_nodo,elegidas[e][\u001b[38;5;241m1\u001b[39m])\n",
      "File \u001b[0;32m/var/folders/tv/5r27z14d5659jltddffn3p780000gn/T/ipykernel_599/1708441550.py:6\u001b[0m, in \u001b[0;36mregla_tipo_griffin\u001b[0;34m(regla_logica, nodos)\u001b[0m\n\u001b[1;32m      1\u001b[0m \u001b[38;5;28;01mdef\u001b[39;00m \u001b[38;5;21mregla_tipo_griffin\u001b[39m(regla_logica, \u001b[38;5;66;03m#string de la regla lógica\u001b[39;00m\n\u001b[1;32m      2\u001b[0m                    nodos \u001b[38;5;66;03m#lista con todos los nodos del modelo\u001b[39;00m\n\u001b[1;32m      3\u001b[0m                   ):\n\u001b[1;32m      4\u001b[0m \u001b[38;5;250m    \u001b[39m\u001b[38;5;124;03m'''transformar una regla lógica a notación como la regresa griffin'''\u001b[39;00m\n\u001b[0;32m----> 6\u001b[0m     tabla \u001b[38;5;241m=\u001b[39m rule2table(regla_logica,nodos)\n\u001b[1;32m      7\u001b[0m     \u001b[38;5;28;01mreturn\u001b[39;00m table2rule(tabla[\u001b[38;5;241m0\u001b[39m],tabla[\u001b[38;5;241m1\u001b[39m])\n",
      "File \u001b[0;32m/var/folders/tv/5r27z14d5659jltddffn3p780000gn/T/ipykernel_599/1794841133.py:54\u001b[0m, in \u001b[0;36mrule2table\u001b[0;34m(rule, nodes)\u001b[0m\n\u001b[1;32m     50\u001b[0m         sol \u001b[38;5;241m=\u001b[39m sol\u001b[38;5;241m.\u001b[39mreplace(y, edos[y])\n\u001b[1;32m     52\u001b[0m     \u001b[38;5;66;03m#agregar al final de cada edo inicial su resultado\u001b[39;00m\n\u001b[1;32m     53\u001b[0m     \u001b[38;5;66;03m#se guardará ese string completo en truth_table\u001b[39;00m\n\u001b[0;32m---> 54\u001b[0m     truth_table\u001b[38;5;241m.\u001b[39mappend(a\u001b[38;5;241m+\u001b[39m\u001b[38;5;28mstr\u001b[39m(\u001b[38;5;28meval\u001b[39m(sol))\u001b[38;5;241m.\u001b[39mreplace(\u001b[38;5;124m'\u001b[39m\u001b[38;5;124mFalse\u001b[39m\u001b[38;5;124m'\u001b[39m,\u001b[38;5;124m'\u001b[39m\u001b[38;5;124m0\u001b[39m\u001b[38;5;124m'\u001b[39m)\u001b[38;5;241m.\u001b[39mreplace(\u001b[38;5;124m'\u001b[39m\u001b[38;5;124mTrue\u001b[39m\u001b[38;5;124m'\u001b[39m,\u001b[38;5;124m'\u001b[39m\u001b[38;5;124m1\u001b[39m\u001b[38;5;124m'\u001b[39m))\n\u001b[1;32m     56\u001b[0m \u001b[38;5;28;01mreturn\u001b[39;00m truth_table, reguladores\n",
      "File \u001b[0;32m<string>:1\u001b[0m\n",
      "\u001b[0;31mNameError\u001b[0m: name 'CycB' is not defined"
     ]
    }
   ],
   "source": [
    "#crear cada una de las redes perturbadas elegidas y guardarlas en .txt formato boolnet\n",
    "os.chdir('/Users/mariana/Dropbox/redes_alfredo/red_apoptosis/analisis_2/perturbaciones')\n",
    "for e in range(150):\n",
    "    index_nodo = nodes.index(elegidas[e][0])\n",
    "    \n",
    "    r = regla_tipo_griffin(rules[index_nodo],nodes) #regla original del nodo n\n",
    "    #r_per = reglas_perturbadas(r)[elegidas[e][1]] #la regla con la perturbacion elegida\n",
    "    \n",
    "    print(index_nodo,elegidas[e][1])\n",
    "    '''#crear red con dicha perturbación\n",
    "    arr = np.array([['targets,', 'factors']])\n",
    "    for i in range(len(nodes)):\n",
    "        if i != index_nodo: #si no es el nodo perturbado guardar regla normal\n",
    "            arr = np.append(arr,[[nodes[i]+',',rules[i]]],axis=0)\n",
    "        else: #si es el nodo perturbado, guardar regla perturbada\n",
    "            arr = np.append(arr,[[nodes[i]+',',r_per.replace('~','!')]],axis=0)\n",
    "    np.savetxt(nodes[n]+'_'+str(j)+'.txt',arr,fmt='%s')\n",
    "'''"
   ]
  },
  {
   "cell_type": "code",
   "execution_count": 117,
   "id": "dfe4a92a",
   "metadata": {},
   "outputs": [
    {
     "data": {
      "text/plain": [
       "{0: '0',\n",
       " 1: '(ICL&~Nuc1&~Nuc2)|(~ICL&~Nuc1&~Nuc2)',\n",
       " 2: '(ICL&~Nuc1&~Nuc2)|(~ICL&~Nuc1&Nuc2)',\n",
       " 3: '(ICL&~Nuc1&~Nuc2)|(~ICL&Nuc1&~Nuc2)',\n",
       " 4: '(ICL&~Nuc1&~Nuc2)|(~ICL&Nuc1&Nuc2)',\n",
       " 5: '(ICL&~Nuc1&~Nuc2)|(ICL&~Nuc1&Nuc2)',\n",
       " 6: '(ICL&~Nuc1&~Nuc2)|(ICL&Nuc1&~Nuc2)',\n",
       " 7: '(ICL&~Nuc1&~Nuc2)|(ICL&Nuc1&Nuc2)'}"
      ]
     },
     "execution_count": 117,
     "metadata": {},
     "output_type": "execute_result"
    }
   ],
   "source": [
    "r = regla_tipo_griffin(rules[0],nodes)\n",
    "r_per = reglas_perturbadas(r)\n",
    "r_per"
   ]
  },
  {
   "cell_type": "code",
   "execution_count": 53,
   "id": "da7e46d4",
   "metadata": {},
   "outputs": [
    {
     "name": "stdout",
     "output_type": "stream",
     "text": [
      "21 35 27\n"
     ]
    }
   ],
   "source": [
    "nod = random.randrange(len(nodes))\n",
    "per = random.randrange(total_rules[nod])\n",
    "print(nod,total_rules[nod],per)"
   ]
  },
  {
   "cell_type": "code",
   "execution_count": 85,
   "id": "ad99a1d4",
   "metadata": {},
   "outputs": [
    {
     "data": {
      "text/plain": [
       "{'a': [0, 5, 2], 'b': [0, 1], 'c': [6, 4, 8]}"
      ]
     },
     "execution_count": 85,
     "metadata": {},
     "output_type": "execute_result"
    }
   ],
   "source": [
    "elegidas = {'a':[0,5,2],'b':[0,1],'c':[6,4,8]}\n",
    "elegidas"
   ]
  },
  {
   "cell_type": "code",
   "execution_count": 87,
   "id": "3999245e",
   "metadata": {},
   "outputs": [
    {
     "data": {
      "text/plain": [
       "[3, 2, 3]"
      ]
     },
     "execution_count": 87,
     "metadata": {},
     "output_type": "execute_result"
    }
   ],
   "source": [
    "total = [len(elegidas[k]) for k in elegidas]\n",
    "total"
   ]
  },
  {
   "cell_type": "code",
   "execution_count": 78,
   "id": "242e8049",
   "metadata": {},
   "outputs": [
    {
     "data": {
      "text/plain": [
       "8"
      ]
     },
     "execution_count": 78,
     "metadata": {},
     "output_type": "execute_result"
    }
   ],
   "source": [
    "total"
   ]
  }
 ],
 "metadata": {
  "kernelspec": {
   "display_name": "Python 3 (ipykernel)",
   "language": "python",
   "name": "python3"
  },
  "language_info": {
   "codemirror_mode": {
    "name": "ipython",
    "version": 3
   },
   "file_extension": ".py",
   "mimetype": "text/x-python",
   "name": "python",
   "nbconvert_exporter": "python",
   "pygments_lexer": "ipython3",
   "version": "3.11.5"
  }
 },
 "nbformat": 4,
 "nbformat_minor": 5
}
