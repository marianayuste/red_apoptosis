{
 "cells": [
  {
   "cell_type": "code",
   "execution_count": 10,
   "id": "5b465b06",
   "metadata": {},
   "outputs": [],
   "source": [
    "import os\n",
    "import random"
   ]
  },
  {
   "cell_type": "code",
   "execution_count": 11,
   "id": "a91148c7",
   "metadata": {},
   "outputs": [],
   "source": [
    "os.chdir('/Users/mariana/Dropbox/redes_alfredo/red_apoptosis')"
   ]
  },
  {
   "cell_type": "code",
   "execution_count": 12,
   "id": "10b15d69",
   "metadata": {
    "scrolled": true
   },
   "outputs": [],
   "source": [
    "run functions.ipynb"
   ]
  },
  {
   "cell_type": "code",
   "execution_count": 13,
   "id": "4039ae56",
   "metadata": {},
   "outputs": [
    {
     "name": "stdout",
     "output_type": "stream",
     "text": [
      "nodos en nodes\n",
      "regulaciones en rules\n",
      "total de regulaciones en total_rules\n",
      "total de renglones de la tabla de verdad de cada nodo en renglones\n"
     ]
    }
   ],
   "source": [
    "run data.ipynb"
   ]
  },
  {
   "cell_type": "code",
   "execution_count": 14,
   "id": "592c438a",
   "metadata": {},
   "outputs": [],
   "source": [
    "os.chdir('/Users/mariana/Dropbox/redes_alfredo/red_apoptosis/analisis_2')"
   ]
  },
  {
   "cell_type": "markdown",
   "id": "8cec7a85",
   "metadata": {},
   "source": [
    "# Generar redes perturbadas\n",
    "### Sólo generar 150 redes perturbadas elegidas al azar\n",
    "### Las elegidas estarán en documento elegidas.txt"
   ]
  },
  {
   "cell_type": "code",
   "execution_count": 15,
   "id": "7e268b8a",
   "metadata": {
    "scrolled": true
   },
   "outputs": [
    {
     "data": {
      "text/plain": [
       "array([['ICL', 7],\n",
       "       ['ICL', 0],\n",
       "       ['ICL', 5],\n",
       "       ['ICL', 3],\n",
       "       ['ICL', 1],\n",
       "       ['FAcore', 48],\n",
       "       ['FAcore', 47],\n",
       "       ['FAcore', 58],\n",
       "       ['FAcore', 4],\n",
       "       ['FANCD2I', 0],\n",
       "       ['FANCD2I', 1],\n",
       "       ['FANCD2I', 5],\n",
       "       ['FANCD2I', 7],\n",
       "       ['Nuc1', 3],\n",
       "       ['Nuc1', 7],\n",
       "       ['RNF4', 0],\n",
       "       ['RNF4', 2],\n",
       "       ['RNF4', 1],\n",
       "       ['RNF4', 3],\n",
       "       ['Nuc2', 158],\n",
       "       ['Nuc2', 77],\n",
       "       ['Nuc2', 174],\n",
       "       ['Nuc2', 65],\n",
       "       ['Nuc2', 176],\n",
       "       ['ADD', 13],\n",
       "       ['ADD', 11],\n",
       "       ['ADD', 4],\n",
       "       ['ADD', 5],\n",
       "       ['ADD', 6],\n",
       "       ['DSB', 84],\n",
       "       ['DSB', 146],\n",
       "       ['DSB', 82],\n",
       "       ['DSB', 78],\n",
       "       ['DSB', 158],\n",
       "       ['TLS', 3],\n",
       "       ['TLS', 0],\n",
       "       ['FAhrr', 831],\n",
       "       ['FAhrr', 402],\n",
       "       ['FAhrr', 556],\n",
       "       ['FAhrr', 896],\n",
       "       ['FAhrr', 195],\n",
       "       ['HRR2', 15],\n",
       "       ['HRR2', 27],\n",
       "       ['HRR2', 3],\n",
       "       ['HRR2', 9],\n",
       "       ['HRR2', 5],\n",
       "       ['NHEJ', 82],\n",
       "       ['NHEJ', 123],\n",
       "       ['NHEJ', 60],\n",
       "       ['NHEJ', 49],\n",
       "       ['NHEJ', 33],\n",
       "       ['NHEJ', 34],\n",
       "       ['NHEJ', 111],\n",
       "       ['NHEJ', 118],\n",
       "       ['TNFa', 31],\n",
       "       ['TNFa', 2],\n",
       "       ['TNFa', 24],\n",
       "       ['TNFa', 1],\n",
       "       ['TNFa', 15],\n",
       "       ['p38MAPK', 3],\n",
       "       ['p38MAPK', 2],\n",
       "       ['p38MAPK', 0],\n",
       "       ['ATR', 46],\n",
       "       ['ATM', 6],\n",
       "       ['ATM', 118],\n",
       "       ['ATM', 10],\n",
       "       ['ATM', 74],\n",
       "       ['ATM', 30],\n",
       "       ['ATM', 46],\n",
       "       ['ATM', 8],\n",
       "       ['ATM', 121],\n",
       "       ['p530', 56],\n",
       "       ['p530', 42],\n",
       "       ['p530', 59],\n",
       "       ['p530', 63],\n",
       "       ['p530', 6],\n",
       "       ['MDM2', 1],\n",
       "       ['MDM2', 2],\n",
       "       ['MDM2', 5],\n",
       "       ['MDM2', 6],\n",
       "       ['MDM2', 3],\n",
       "       ['MDM2', 0],\n",
       "       ['MDM2', 4],\n",
       "       ['p53a0', 43],\n",
       "       ['p53a0', 16],\n",
       "       ['p53a0', 56],\n",
       "       ['p53a0', 51],\n",
       "       ['p53a0', 29],\n",
       "       ['p53a0', 57],\n",
       "       ['p53a0', 17],\n",
       "       ['p21', 0],\n",
       "       ['p21', 1],\n",
       "       ['p21', 3],\n",
       "       ['p53aRE', 7],\n",
       "       ['p53aRE', 13],\n",
       "       ['p53aRE', 12],\n",
       "       ['p53aRE', 15],\n",
       "       ['p53aRE', 0],\n",
       "       ['p53aRE', 5],\n",
       "       ['p53k0', 150908],\n",
       "       ['p53k0', 242462],\n",
       "       ['p53k0', 169785],\n",
       "       ['p53k0', 317891],\n",
       "       ['p53k0', 65631],\n",
       "       ['p53kRE', 31],\n",
       "       ['p53kRE', 8],\n",
       "       ['p53kRE', 24],\n",
       "       ['p53kRE', 0],\n",
       "       ['p53kRE', 28],\n",
       "       ['p53kRE', 11],\n",
       "       ['CASP3', 7],\n",
       "       ['CASP3', 5],\n",
       "       ['CASP3', 4],\n",
       "       ['CASP3', 1],\n",
       "       ['CASP3', 0],\n",
       "       ['CASP3', 2],\n",
       "       ['IAP', 1],\n",
       "       ['IAP', 0],\n",
       "       ['Wip1', 0],\n",
       "       ['Wip1', 2],\n",
       "       ['Wip1', 1],\n",
       "       ['Wip1', 3],\n",
       "       ['CDK1_AurA', 21],\n",
       "       ['CDK1_AurA', 22],\n",
       "       ['CDK1_AurA', 37],\n",
       "       ['CDK1_AurA', 29],\n",
       "       ['CDK1_AurA', 17],\n",
       "       ['CDK1_AurA', 51],\n",
       "       ['CDK1_AurA', 40],\n",
       "       ['CDK1_AurA', 13],\n",
       "       ['CDK1_AurA', 16],\n",
       "       ['CDK1_AurA', 41],\n",
       "       ['Plk1', 92],\n",
       "       ['Plk1', 25],\n",
       "       ['Plk1', 114],\n",
       "       ['Plk1', 90],\n",
       "       ['Plk1', 12],\n",
       "       ['Plk1', 66],\n",
       "       ['Plk1', 33],\n",
       "       ['CDC25', 39],\n",
       "       ['CDC25', 25],\n",
       "       ['CDC25', 10],\n",
       "       ['CDC25', 54],\n",
       "       ['CycB_CDK1', 40],\n",
       "       ['CycB_CDK1', 37],\n",
       "       ['CycB_CDK1', 35],\n",
       "       ['CycB_CDK1', 21],\n",
       "       ['CycB_CDK1', 31],\n",
       "       ['CycB_CDK1', 20],\n",
       "       ['CycB_CDK1', 56]], dtype=object)"
      ]
     },
     "execution_count": 15,
     "metadata": {},
     "output_type": "execute_result"
    }
   ],
   "source": [
    "#elegir las redes a usar\n",
    "'''\n",
    "os.chdir('/Users/mariana/Dropbox/redes_alfredo/red_apoptosis/analisis_2/perturbaciones')\n",
    "e = {k:[] for k in nodes}\n",
    "total = 0\n",
    "while total < 150:\n",
    "    nod = random.randrange(len(nodes))\n",
    "    per = random.randrange(renglones[nod])\n",
    "    if per not in e[nodes[nod]]:\n",
    "        e[nodes[nod]].append(per)\n",
    "    total = sum([len(e[k]) for k in e])\n",
    "\n",
    "#imprimir totales\n",
    "print('nodo, total de renglones, total de renglones a perturbar:')\n",
    "for n in nodes:\n",
    "    print(n,renglones[nodes.index(n)],len(e[n]))\n",
    "\n",
    "#convertir a array\n",
    "elegidas = np.zeros((150,2),dtype=object)\n",
    "n = 0\n",
    "for i in e:\n",
    "    for ii in e[i]:\n",
    "        elegidas[n] = [i,str(ii)]\n",
    "        n+=1\n",
    "\n",
    "#guardar en .txt\n",
    "with open('elegidas.txt','w') as file:\n",
    "    for line in elegidas:\n",
    "        file.write(','.join(line) + ';')\n",
    "'''\n",
    "\n",
    "#abrir 'elegidas.txt' ya guardado\n",
    "os.chdir('/Users/mariana/Dropbox/redes_alfredo/red_apoptosis/analisis_2/perturbaciones')\n",
    "f = open('elegidas.txt','r')\n",
    "d = f.read()\n",
    "elegidas = np.zeros((150,2),dtype=object)\n",
    "n = 0\n",
    "for line in d.split(';')[:-1]:\n",
    "    elegidas[n][0] = line.split(',')[0]\n",
    "    elegidas[n][1] = int(line.split(',')[1])\n",
    "    n+=1\n",
    "elegidas"
   ]
  },
  {
   "cell_type": "code",
   "execution_count": 17,
   "id": "fd97ede6",
   "metadata": {},
   "outputs": [
    {
     "name": "stdout",
     "output_type": "stream",
     "text": [
      "['ICL' 7]\n",
      "['ICL' 0]\n",
      "['ICL' 5]\n",
      "['ICL' 3]\n",
      "['ICL' 1]\n",
      "['FAcore' 48]\n",
      "['FAcore' 47]\n",
      "['FAcore' 58]\n",
      "['FAcore' 4]\n",
      "['FANCD2I' 0]\n",
      "['FANCD2I' 1]\n",
      "['FANCD2I' 5]\n",
      "['FANCD2I' 7]\n",
      "['Nuc1' 3]\n",
      "['Nuc1' 7]\n",
      "['RNF4' 0]\n",
      "['RNF4' 2]\n",
      "['RNF4' 1]\n",
      "['RNF4' 3]\n",
      "['Nuc2' 158]\n",
      "['Nuc2' 77]\n",
      "['Nuc2' 174]\n",
      "['Nuc2' 65]\n",
      "['Nuc2' 176]\n",
      "['ADD' 13]\n",
      "['ADD' 11]\n",
      "['ADD' 4]\n",
      "['ADD' 5]\n",
      "['ADD' 6]\n",
      "['DSB' 84]\n",
      "['DSB' 146]\n",
      "['DSB' 82]\n",
      "['DSB' 78]\n",
      "['DSB' 158]\n",
      "['TLS' 3]\n",
      "['TLS' 0]\n",
      "['FAhrr' 831]\n",
      "['FAhrr' 402]\n",
      "['FAhrr' 556]\n",
      "['FAhrr' 896]\n",
      "['FAhrr' 195]\n",
      "['HRR2' 15]\n",
      "['HRR2' 27]\n",
      "['HRR2' 3]\n",
      "['HRR2' 9]\n",
      "['HRR2' 5]\n",
      "['NHEJ' 82]\n",
      "['NHEJ' 123]\n",
      "['NHEJ' 60]\n",
      "['NHEJ' 49]\n",
      "['NHEJ' 33]\n",
      "['NHEJ' 34]\n",
      "['NHEJ' 111]\n",
      "['NHEJ' 118]\n",
      "['TNFa' 31]\n",
      "['TNFa' 2]\n",
      "['TNFa' 24]\n",
      "['TNFa' 1]\n",
      "['TNFa' 15]\n",
      "['p38MAPK' 3]\n",
      "['p38MAPK' 2]\n",
      "['p38MAPK' 0]\n",
      "['ATR' 46]\n",
      "['ATM' 6]\n",
      "['ATM' 118]\n",
      "['ATM' 10]\n",
      "['ATM' 74]\n",
      "['ATM' 30]\n",
      "['ATM' 46]\n",
      "['ATM' 8]\n",
      "['ATM' 121]\n",
      "['p530' 56]\n",
      "['p530' 42]\n",
      "['p530' 59]\n",
      "['p530' 63]\n",
      "['p530' 6]\n",
      "['MDM2' 1]\n",
      "['MDM2' 2]\n",
      "['MDM2' 5]\n",
      "['MDM2' 6]\n",
      "['MDM2' 3]\n",
      "['MDM2' 0]\n",
      "['MDM2' 4]\n",
      "['p53a0' 43]\n",
      "['p53a0' 16]\n",
      "['p53a0' 56]\n",
      "['p53a0' 51]\n",
      "['p53a0' 29]\n",
      "['p53a0' 57]\n",
      "['p53a0' 17]\n",
      "['p21' 0]\n",
      "['p21' 1]\n",
      "['p21' 3]\n",
      "['p53aRE' 7]\n",
      "['p53aRE' 13]\n",
      "['p53aRE' 12]\n",
      "['p53aRE' 15]\n",
      "['p53aRE' 0]\n",
      "['p53aRE' 5]\n",
      "['p53k0' 150908]\n",
      "['p53k0' 242462]\n",
      "['p53k0' 169785]\n",
      "['p53k0' 317891]\n",
      "['p53k0' 65631]\n",
      "['p53kRE' 31]\n",
      "['p53kRE' 8]\n",
      "['p53kRE' 24]\n",
      "['p53kRE' 0]\n",
      "['p53kRE' 28]\n",
      "['p53kRE' 11]\n",
      "['CASP3' 7]\n",
      "['CASP3' 5]\n",
      "['CASP3' 4]\n",
      "['CASP3' 1]\n",
      "['CASP3' 0]\n",
      "['CASP3' 2]\n",
      "['IAP' 1]\n",
      "['IAP' 0]\n",
      "['Wip1' 0]\n",
      "['Wip1' 2]\n",
      "['Wip1' 1]\n",
      "['Wip1' 3]\n",
      "['CDK1_AurA' 21]\n",
      "['CDK1_AurA' 22]\n",
      "['CDK1_AurA' 37]\n",
      "['CDK1_AurA' 29]\n",
      "['CDK1_AurA' 17]\n",
      "['CDK1_AurA' 51]\n",
      "['CDK1_AurA' 40]\n",
      "['CDK1_AurA' 13]\n",
      "['CDK1_AurA' 16]\n",
      "['CDK1_AurA' 41]\n",
      "['Plk1' 92]\n",
      "['Plk1' 25]\n",
      "['Plk1' 114]\n",
      "['Plk1' 90]\n",
      "['Plk1' 12]\n",
      "['Plk1' 66]\n",
      "['Plk1' 33]\n",
      "['CDC25' 39]\n",
      "['CDC25' 25]\n",
      "['CDC25' 10]\n",
      "['CDC25' 54]\n",
      "['CycB_CDK1' 40]\n",
      "['CycB_CDK1' 37]\n",
      "['CycB_CDK1' 35]\n",
      "['CycB_CDK1' 21]\n",
      "['CycB_CDK1' 31]\n",
      "['CycB_CDK1' 20]\n",
      "['CycB_CDK1' 56]\n"
     ]
    }
   ],
   "source": [
    "#crear cada una de las redes perturbadas elegidas y guardarlas en .txt formato boolnet\n",
    "os.chdir('/Users/mariana/Dropbox/redes_alfredo/red_apoptosis/analisis_2/perturbaciones')\n",
    "for e in elegidas:\n",
    "    print(e)\n",
    "    index_nodo = nodes.index(e[0])\n",
    "    \n",
    "    if e[0] == 'p53k0':\n",
    "        continue\n",
    "\n",
    "    else:\n",
    "        r = regla_tipo_griffin(rules[index_nodo],nodes) #regla original del nodo n\n",
    "    \n",
    "    r_per = reglas_perturbadas(r)[e[1]] #la regla con la perturbacion elegida\n",
    "    \n",
    "    #crear red con dicha perturbación\n",
    "    arr = np.array([['targets,', 'factors']])\n",
    "    for i in range(len(nodes)):\n",
    "        if i != index_nodo: #si no es el nodo perturbado guardar regla normal\n",
    "            arr = np.append(arr,[[nodes[i]+',',rules[i]]],axis=0)\n",
    "        else: #si es el nodo perturbado, guardar regla perturbada\n",
    "            arr = np.append(arr,[[nodes[i]+',',r_per.replace('~','!')]],axis=0)\n",
    "    np.savetxt(e[0]+'_'+str(e[1])+'.txt', arr, fmt='%s') #nodo_renglonpert.txt\n"
   ]
  },
  {
   "cell_type": "code",
   "execution_count": 117,
   "id": "dfe4a92a",
   "metadata": {},
   "outputs": [
    {
     "data": {
      "text/plain": [
       "{0: '0',\n",
       " 1: '(ICL&~Nuc1&~Nuc2)|(~ICL&~Nuc1&~Nuc2)',\n",
       " 2: '(ICL&~Nuc1&~Nuc2)|(~ICL&~Nuc1&Nuc2)',\n",
       " 3: '(ICL&~Nuc1&~Nuc2)|(~ICL&Nuc1&~Nuc2)',\n",
       " 4: '(ICL&~Nuc1&~Nuc2)|(~ICL&Nuc1&Nuc2)',\n",
       " 5: '(ICL&~Nuc1&~Nuc2)|(ICL&~Nuc1&Nuc2)',\n",
       " 6: '(ICL&~Nuc1&~Nuc2)|(ICL&Nuc1&~Nuc2)',\n",
       " 7: '(ICL&~Nuc1&~Nuc2)|(ICL&Nuc1&Nuc2)'}"
      ]
     },
     "execution_count": 117,
     "metadata": {},
     "output_type": "execute_result"
    }
   ],
   "source": [
    "r = regla_tipo_griffin(rules[0],nodes)\n",
    "r_per = reglas_perturbadas(r)\n",
    "r_per"
   ]
  },
  {
   "cell_type": "code",
   "execution_count": 53,
   "id": "da7e46d4",
   "metadata": {},
   "outputs": [
    {
     "name": "stdout",
     "output_type": "stream",
     "text": [
      "21 35 27\n"
     ]
    }
   ],
   "source": [
    "nod = random.randrange(len(nodes))\n",
    "per = random.randrange(total_rules[nod])\n",
    "print(nod,total_rules[nod],per)"
   ]
  },
  {
   "cell_type": "code",
   "execution_count": 85,
   "id": "ad99a1d4",
   "metadata": {},
   "outputs": [
    {
     "data": {
      "text/plain": [
       "{'a': [0, 5, 2], 'b': [0, 1], 'c': [6, 4, 8]}"
      ]
     },
     "execution_count": 85,
     "metadata": {},
     "output_type": "execute_result"
    }
   ],
   "source": [
    "elegidas = {'a':[0,5,2],'b':[0,1],'c':[6,4,8]}\n",
    "elegidas"
   ]
  },
  {
   "cell_type": "code",
   "execution_count": 87,
   "id": "3999245e",
   "metadata": {},
   "outputs": [
    {
     "data": {
      "text/plain": [
       "[3, 2, 3]"
      ]
     },
     "execution_count": 87,
     "metadata": {},
     "output_type": "execute_result"
    }
   ],
   "source": [
    "total = [len(elegidas[k]) for k in elegidas]\n",
    "total"
   ]
  },
  {
   "cell_type": "code",
   "execution_count": 78,
   "id": "242e8049",
   "metadata": {},
   "outputs": [
    {
     "data": {
      "text/plain": [
       "8"
      ]
     },
     "execution_count": 78,
     "metadata": {},
     "output_type": "execute_result"
    }
   ],
   "source": [
    "total"
   ]
  }
 ],
 "metadata": {
  "kernelspec": {
   "display_name": "Python 3 (ipykernel)",
   "language": "python",
   "name": "python3"
  },
  "language_info": {
   "codemirror_mode": {
    "name": "ipython",
    "version": 3
   },
   "file_extension": ".py",
   "mimetype": "text/x-python",
   "name": "python",
   "nbconvert_exporter": "python",
   "pygments_lexer": "ipython3",
   "version": "3.11.5"
  }
 },
 "nbformat": 4,
 "nbformat_minor": 5
}
