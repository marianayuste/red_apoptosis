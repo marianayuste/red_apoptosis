{
 "cells": [
  {
   "cell_type": "markdown",
   "id": "66a64074",
   "metadata": {},
   "source": [
    "# Para tener siempre a la mano nomre de nodos y sus perturbaciones en la red original\n",
    "### Cambié a mano:\n",
    "###       - el nombre 'p53' a 'p530' para que no se confunda con los otros 'p53...'\n",
    "###       - también de 'p53a' a 'p53a0' y de 'p53k' a 'p53k0' para que no se confundan con 'p53aRE' y 'p53kRE' respectivamente"
   ]
  },
  {
   "cell_type": "code",
   "execution_count": 13,
   "id": "c872f674",
   "metadata": {
    "collapsed": true
   },
   "outputs": [
    {
     "data": {
      "text/plain": [
       "['ICL',\n",
       " 'FAcore',\n",
       " 'FANCD2I',\n",
       " 'Nuc1',\n",
       " 'RNF4',\n",
       " 'Nuc2',\n",
       " 'ADD',\n",
       " 'DSB',\n",
       " 'TLS',\n",
       " 'FAhrr',\n",
       " 'HRR2',\n",
       " 'NHEJ',\n",
       " 'TNFa',\n",
       " 'p38MAPK',\n",
       " 'ATR',\n",
       " 'ATM',\n",
       " 'p530',\n",
       " 'MDM2',\n",
       " 'p53a0',\n",
       " 'p21',\n",
       " 'p53aRE',\n",
       " 'p53k0',\n",
       " 'p53kRE',\n",
       " 'CASP3',\n",
       " 'IAP',\n",
       " 'Wip1',\n",
       " 'CDK1_AurA',\n",
       " 'Plk1',\n",
       " 'CDC25',\n",
       " 'CycB_CDK1']"
      ]
     },
     "execution_count": 13,
     "metadata": {},
     "output_type": "execute_result"
    }
   ],
   "source": [
    "n = ['ICL','FAcore','FANCD2I','Nuc1','RNF4','Nuc2','ADD','DSB','TLS','FAhrr','HRR2','NHEJ','TNFa','p38MAPK','ATR','ATM','p530','MDM2','p53a0','p21','p53aRE','p53k0','p53kRE','CASP3','IAP','Wip1','CDK1/AurA','Plk1','CDC25','CycB/CDK1']\n",
    "nodes = []\n",
    "\n",
    "for i in n: #cambiar '/' por '_'\n",
    "    nodes.append(i.replace('/','_'))\n",
    "len(nodes)\n",
    "nodes"
   ]
  },
  {
   "cell_type": "code",
   "execution_count": 14,
   "id": "46d4108f",
   "metadata": {
    "collapsed": true
   },
   "outputs": [
    {
     "data": {
      "text/plain": [
       "['ICL & ! (Nuc1 | Nuc2)',\n",
       " 'ICL & ! (RNF4 & Plk1) | FAcore & ! (ATR | CASP3)',\n",
       " '(FAcore & (ATR | ATM))',\n",
       " '(ICL & FANCD2I) & ! (Nuc1)',\n",
       " 'ICL & ! FAcore',\n",
       " 'ICL & RNF4 & (ATR | ATM | p530) & ! ((FAcore & FANCD2I) | Nuc1)',\n",
       " '(ADD | Nuc1 | Nuc2) & ! (TLS)',\n",
       " '((DSB | Nuc1 | Nuc2) & ! (NHEJ | FAhrr | HRR2)) | ((Nuc1 | Nuc2) & ICL & ! (p38MAPK))',\n",
       " 'ADD & ! Plk1',\n",
       " '((DSB & FANCD2I) & ! (p38MAPK | CASP3)) | ((DSB & (ATR | ATM) & FAcore & FANCD2I) & ! ((NHEJ & Plk1) | CASP3 | TNFa))',\n",
       " '(DSB) & ! (FAhrr | NHEJ | CycB_CDK1 | TNFa)',\n",
       " '(((DSB & Nuc2) & ! ((FAcore & FANCD2I) | (DSB & (ATR | ATM) & FAhrr))) | ((DSB & (ATM | ATR)) & ! FANCD2I))',\n",
       " '(ATR | ATM) & ! (FANCD2I | FAhrr | CycB_CDK1)',\n",
       " 'TNFa & ! CASP3',\n",
       " '(ICL | ATM) & ! (Wip1 | (Plk1 & NHEJ) | CASP3)',\n",
       " '(ATR | DSB) & ! (Wip1 | (Plk1 & NHEJ) | CASP3) | FAcore',\n",
       " '(ATR | ATM | NHEJ | p38MAPK) & ! (Wip1 & MDM2)',\n",
       " 'p530 & ! (CASP3 | CycB_CDK1)',\n",
       " '((p530 | p53a0) & (ATR | ATM)) & ! (Wip1 | p53k0)',\n",
       " 'CASP3 | p53a0',\n",
       " 'CASP3 | (p53a0 | p21) & ! (CycB_CDK1)',\n",
       " 'CASP3 | (((p530 | p53k0) & (ICL | DSB) & (NHEJ | FAhrr) & p53aRE) | (ICL & FAcore & FANCD2I & Nuc1 & ADD & DSB & ATM & ATR & p53aRE & TLS & MDM2) | ((p530 | p53k0) & (p53kRE) & ICL & p53aRE)) | (ICL & FAcore & Nuc1 & RNF4 & ADD & DSB & TLS & HRR2 & ATR & ATM & p530)',\n",
       " 'CASP3 | (p53k0 & (DSB | ADD | ICL))',\n",
       " '(p53kRE | TNFa) & ! IAP',\n",
       " '! (p53kRE)',\n",
       " 'p53aRE & p53a0',\n",
       " 'CycB_CDK1 | CDC25 | ! (p21) & ! (p53aRE | ATM | ATR)',\n",
       " 'CycB_CDK1 | (ICL & ATR & ! FAcore) | ((CDK1_AurA ) & ! (p53aRE | ATR | ATM))',\n",
       " 'CycB_CDK1 | (Plk1 & (CycB_CDK1 | CDK1_AurA) & ! ((p53aRE ) & (ATM | ATR)))',\n",
       " 'CycB_CDK1 & ! (CASP3) | (CDC25 & Plk1 & CDK1_AurA) & ! p21']"
      ]
     },
     "execution_count": 14,
     "metadata": {},
     "output_type": "execute_result"
    }
   ],
   "source": [
    "#regulaciones de cada nodo\n",
    "f = open('original.txt','r').read()\n",
    "rules = f.split('\\n')[1:len(nodes)+1] #quitando 1er y ultimo renglón (con 'targets,factors' y espacio)\n",
    "rules = [k.replace('/','_') for k in rules]\n",
    "for i in range(len(rules)):\n",
    "    rules[i] = rules[i].split(', ')[1]\n",
    "rules"
   ]
  },
  {
   "cell_type": "code",
   "execution_count": 15,
   "id": "bbee8b04",
   "metadata": {
    "collapsed": true
   },
   "outputs": [
    {
     "data": {
      "text/plain": [
       "[3,\n",
       " 6,\n",
       " 3,\n",
       " 3,\n",
       " 2,\n",
       " 8,\n",
       " 4,\n",
       " 10,\n",
       " 2,\n",
       " 13,\n",
       " 5,\n",
       " 12,\n",
       " 5,\n",
       " 2,\n",
       " 6,\n",
       " 7,\n",
       " 6,\n",
       " 3,\n",
       " 6,\n",
       " 2,\n",
       " 4,\n",
       " 35,\n",
       " 5,\n",
       " 3,\n",
       " 1,\n",
       " 2,\n",
       " 6,\n",
       " 8,\n",
       " 7,\n",
       " 6]"
      ]
     },
     "execution_count": 15,
     "metadata": {},
     "output_type": "execute_result"
    }
   ],
   "source": [
    "total_rules = []\n",
    "boo = ['&','|']\n",
    "sep = ['(',')',' ','!']\n",
    "for i in range(len(nodes)):\n",
    "    r = rules[i]\n",
    "    for s in sep:\n",
    "        r = r.replace(s,'')\n",
    "    for b in boo:\n",
    "        r = r.replace(b,',')\n",
    "    r = r.split(',')\n",
    "    total_rules.append(len(r))\n",
    "\n",
    "total_rules"
   ]
  },
  {
   "cell_type": "code",
   "execution_count": 18,
   "id": "e8f09ba8",
   "metadata": {},
   "outputs": [],
   "source": [
    "#regla del nodo p53k0 (es enorme, mejor ya tenrla guardada)\n",
    "'''\n",
    "nodo = 'p53k0'\n",
    "i_n = nodes.index(nodo)\n",
    "r = regla_tipo_griffin(rules[i_n],nodes)\n",
    "f = open('regla_p53k0.txt','w')\n",
    "f.write(r)\n",
    "'''\n",
    "f = open('regla_p53k0.txt','r').read()\n",
    "regla_p53k0 = f"
   ]
  },
  {
   "cell_type": "code",
   "execution_count": 26,
   "id": "509d1cc5",
   "metadata": {},
   "outputs": [
    {
     "data": {
      "text/plain": [
       "[8,\n",
       " 64,\n",
       " 8,\n",
       " 8,\n",
       " 4,\n",
       " 256,\n",
       " 16,\n",
       " 256,\n",
       " 4,\n",
       " 1024,\n",
       " 32,\n",
       " 128,\n",
       " 32,\n",
       " 4,\n",
       " 64,\n",
       " 128,\n",
       " 64,\n",
       " 8,\n",
       " 64,\n",
       " 4,\n",
       " 16,\n",
       " 524288,\n",
       " 32,\n",
       " 8,\n",
       " 2,\n",
       " 4,\n",
       " 64,\n",
       " 128,\n",
       " 64,\n",
       " 64]"
      ]
     },
     "execution_count": 26,
     "metadata": {},
     "output_type": "execute_result"
    }
   ],
   "source": [
    "#obtener total de renglones de la tabla de verdad de cada nodo\n",
    "'''\n",
    "renglones = []\n",
    "for n in range(len(nodes)):\n",
    "    table = rule2table(rules[n],nodes)\n",
    "    renglones.append(len(table[0]))\n",
    "'''\n",
    "#del forloop de arriba obtuve la sig lista:\n",
    "renglones = [8,64,8,8,4,256,16,256,4,1024,32,128,32,4,64,128,64,8,64,4,16,524288,32,8,2,4,64,128,64,64]\n",
    "renglones"
   ]
  },
  {
   "cell_type": "code",
   "execution_count": null,
   "id": "c5b6a280",
   "metadata": {},
   "outputs": [],
   "source": [
    "print('nodos en nodes\\nregulaciones en rules\\ntotal de regulaciones en total_rules\\ntotal de renglones de la tabla de verdad de cada nodo en renglones')\n"
   ]
  }
 ],
 "metadata": {
  "kernelspec": {
   "display_name": "Python 3 (ipykernel)",
   "language": "python",
   "name": "python3"
  },
  "language_info": {
   "codemirror_mode": {
    "name": "ipython",
    "version": 3
   },
   "file_extension": ".py",
   "mimetype": "text/x-python",
   "name": "python",
   "nbconvert_exporter": "python",
   "pygments_lexer": "ipython3",
   "version": "3.11.5"
  }
 },
 "nbformat": 4,
 "nbformat_minor": 5
}
