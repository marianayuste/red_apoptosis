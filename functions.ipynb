{
 "cells": [
  {
   "cell_type": "code",
   "execution_count": 6,
   "id": "9f7237b2",
   "metadata": {},
   "outputs": [],
   "source": [
    "import numpy as np\n",
    "import itertools"
   ]
  },
  {
   "cell_type": "markdown",
   "id": "81c42f53",
   "metadata": {},
   "source": [
    "# Todas las funciones usadas en los análisis hechos a la red apoptosis\n",
    "#### Las recuperé de functions.ipynb en carpeta 'DSB network'"
   ]
  },
  {
   "cell_type": "code",
   "execution_count": 11,
   "id": "7338b2b3",
   "metadata": {},
   "outputs": [
    {
     "data": {
      "text/plain": [
       "(['1110', '1100', '1010', '1001', '0110', '0100', '0010', '0000'],\n",
       " ['A', 'B', 'D'])"
      ]
     },
     "execution_count": 11,
     "metadata": {},
     "output_type": "execute_result"
    }
   ],
   "source": [
    "def rule2table(rule, #string de la regla lógica\n",
    "               nodes #lista con todos los nodos del modelo\n",
    "              ):\n",
    "    '''crear tabla de verdad a partir de una regla lógica\n",
    "    devuelve una lista donde cada elemento representa un renglón\n",
    "    de la tabla de verdad (incluyendo su resultado al final)\n",
    "    '''\n",
    "    \n",
    "    #obtener los reguladores\n",
    "    boo = ['&','|']\n",
    "    sep = ['(',')',' ','!']\n",
    "    r = rule\n",
    "    for s in sep: \n",
    "        r = r.replace(s,'')\n",
    "    for b in boo:\n",
    "        r = r.replace(b,',')\n",
    "    reg = []\n",
    "    for a in r.split(','):\n",
    "        if a != '' and a not in reg:\n",
    "            reg.append(a)\n",
    "    #organizar los reguladores según como aparecen en la lista nodos\n",
    "    reguladores = []\n",
    "    for a in nodes:\n",
    "        if a in reg:\n",
    "            reguladores.append(a)\n",
    "    \n",
    "    #crear todos los posibles edos iniciales con los reguladores\n",
    "    lista = list(itertools.product([1,0], repeat = len(reguladores))) \n",
    "    #convertir los edos iniciales a una lista de strings\n",
    "    edos_iniciales = []\n",
    "    for a in range(len(lista)):\n",
    "        e = ''\n",
    "        for b in lista[a]:\n",
    "            e = e + str(b)\n",
    "        edos_iniciales.append(e)\n",
    "    \n",
    "    # tabla de verdad de 1s y 0s \n",
    "    #con cada edo inicial (valores organizados según lista nodos) \n",
    "    #y el resultado del nodo al final\n",
    "    truth_table = []\n",
    "    for a in edos_iniciales:\n",
    "        #guardar edo de cada regulador\n",
    "        edos = {}\n",
    "        for x in range(len(reguladores)):\n",
    "            edos[reguladores[x]] = a[x]\n",
    "\n",
    "        #resolver regla según edos\n",
    "        sol = rule.replace('!', 'not ').replace('~', 'not ').replace('&',' and ').replace('|',' or ')\n",
    "        for y in reguladores:\n",
    "            sol = sol.replace(y, edos[y])\n",
    "\n",
    "        #agregar al final de cada edo inicial su resultado\n",
    "        #se guardará ese string completo en truth_table\n",
    "        truth_table.append(a+str(eval(sol)).replace('False','0').replace('True','1'))\n",
    "    \n",
    "    return truth_table, reguladores\n",
    "\n",
    "#ejemplo:\n",
    "ejemplo = rule2table('A&!(B|D)',['A','B','F','jiji','D'])\n",
    "ejemplo"
   ]
  },
  {
   "cell_type": "code",
   "execution_count": 5,
   "id": "76167d46",
   "metadata": {},
   "outputs": [
    {
     "data": {
      "text/plain": [
       "'(A&~B&~C)'"
      ]
     },
     "execution_count": 5,
     "metadata": {},
     "output_type": "execute_result"
    }
   ],
   "source": [
    "def table2rule(truth_table, #lista de renglones de la tabla (incluyendo resultado al final)\n",
    "                  regulators #lista de los reguladores (como los regresa rule2table)\n",
    "                 ):\n",
    "    '''función para crear una regla lógica escrita igual que las de Griffin. \n",
    "    A partir de una tabla de verdad de ceros y unos (como la entrega rule2table)\n",
    "    en esta regla lógica nueva cada renglón de la tabla de verdad \n",
    "    se anota tal cual en la regla truth_table: \n",
    "    '''\n",
    "    \n",
    "    \n",
    "    new_rule = ''\n",
    "    for a in truth_table:\n",
    "        if a[-1] == '1': #crear una regla si el resultado es 1\n",
    "            #para ello se toman los nodos que se encuetren en 1\n",
    "            reglita = ''\n",
    "            #agregar estado de cada nodo a la reglita\n",
    "            for n in range(len(a)-1): #para cada regulador\n",
    "                if a[n] == '1':\n",
    "                    reglita = reglita + '&' + regulators[n]\n",
    "                elif a[n] == '0':\n",
    "                    reglita = reglita + '&~' + regulators[n]\n",
    "            reglita = '('+reglita[1:]+')'\n",
    "            new_rule = new_rule+'|'+reglita\n",
    "    new_rule = new_rule[1:]\n",
    "    return new_rule\n",
    "\n",
    "ejemplo = table2rule(['1110', '1100', '1010', '1001', '0110', '0100', '0010', '0000'],['A','B','C','D'])\n",
    "ejemplo"
   ]
  },
  {
   "cell_type": "code",
   "execution_count": 13,
   "id": "83654c17",
   "metadata": {},
   "outputs": [
    {
     "data": {
      "text/plain": [
       "'(ICL&~Nuc1&~Nuc2)'"
      ]
     },
     "execution_count": 13,
     "metadata": {},
     "output_type": "execute_result"
    }
   ],
   "source": [
    "def regla_tipo_griffin(regla_logica, #string de la regla lógica\n",
    "                   nodos #lista con todos los nodos del modelo\n",
    "                  ):\n",
    "    '''transformar una regla lógica a notación como la regresa griffin'''\n",
    "    \n",
    "    tabla = rule2table(regla_logica,nodos)\n",
    "    return table2rule(tabla[0],tabla[1])\n",
    "\n",
    "ejemplo = regla_tipo_griffin('!F|!G|!A',['A','B','F','G'])\n",
    "nodes = [\"ICL\",\"FAcore\",\"FANCD2I\",\"Nuc1\",\"RNF4\",\"Nuc2\",\"ADD\",\"DSB\",\"TLS\",\"FAhrr\",\"HRR2\",\"NHEJ\",\"TNFa\",\"p38MAPK\",\"ATR\",\"ATM\",\"p53\",\"MDM2\",\"p53a\",\"p21\",\"p53aRE\",\"p53k\",\"p53kRE\",\"CASP3\",\"IAP\",\"Wip1\",\"CDK1_AurA\",\"Plk1\",\"CDC25\",\"CycB_CDK1\"]\n",
    "ejemplo = regla_tipo_griffin('ICL & ! (Nuc1 | Nuc2)',nodes)\n",
    "ejemplo"
   ]
  },
  {
   "cell_type": "code",
   "execution_count": 14,
   "id": "feafbfe8",
   "metadata": {},
   "outputs": [
    {
     "data": {
      "text/plain": [
       "{0: '0',\n",
       " 1: '(A&~B&~C)|(~A&~B&~C)',\n",
       " 2: '(A&~B&~C)|(~A&~B&C)',\n",
       " 3: '(A&~B&~C)|(~A&B&~C)',\n",
       " 4: '(A&~B&~C)|(~A&B&C)',\n",
       " 5: '(A&~B&~C)|(A&~B&C)',\n",
       " 6: '(A&~B&~C)|(A&B&~C)',\n",
       " 7: '(A&~B&~C)|(A&B&C)'}"
      ]
     },
     "execution_count": 14,
     "metadata": {},
     "output_type": "execute_result"
    }
   ],
   "source": [
    "def reglas_perturbadas(regla):\n",
    "    '''Crear todas las posibles perturbaciones tipo bitflip a un nodo\n",
    "        la regla input es un string con la regla original de un nodo usando simbolos &,| y ~\n",
    "        y debe tener notacion tipo griffin (pasarla antes por regla_tipo_griffin)\n",
    "    '''\n",
    "    \n",
    "    #lista con los renglones de la tabla de verdad que tiene la regla (donde el nodo = 1)\n",
    "    r = regla.replace('(','').replace(')','').split('|')\n",
    "\n",
    "    #Sacar los nodos que regulan al gen actual\n",
    "    reguladores = regla\n",
    "    quitar = '()~'\n",
    "    for a in quitar:\n",
    "        reguladores = reguladores.replace(a,'')\n",
    "    #sacar solo los nodos y quitar repeticiones:\n",
    "    reguladores = list(dict.fromkeys(reguladores.split('|')[0].split('&')))\n",
    "\n",
    "    #lista con todos los renglones de la tabla de verdad\n",
    "    total_r = []\n",
    "    comb = list(itertools.product(['~',''], repeat = len(reguladores)))\n",
    "    for a in comb:\n",
    "        c = ''\n",
    "        for b in range(len(reguladores)):\n",
    "            c = c + (a[b] + reguladores[b]) + '&'\n",
    "        total_r.append(c[:-1])\n",
    "\n",
    "    #lista con los renglones de la tabla de verdad que tiene la anti-regla (donde el nodo = 0)\n",
    "    not_r = [] \n",
    "    for a in total_r:\n",
    "        if a not in r:\n",
    "            not_r.append(a)\n",
    "    \n",
    "    ### Hacer las reglas perturbadas ###\n",
    "    per = {} #diccionario con listas de los renglones donde el nodo = 1 en las perturbaciones\n",
    "    for a in range(len(total_r)):\n",
    "        per[a] = []\n",
    "    # Quitar uno por uno los renglones de r (la regla original)\n",
    "    for a in range(len(r)):\n",
    "        for b in range(len(r)):\n",
    "            if b != a:\n",
    "                per[a].append(r[b])\n",
    "    # Agregar uno por uno los renglones de not_r\n",
    "    for a in range(len(not_r)):\n",
    "        per[len(r)+a] = regla.replace('(','').replace(')','').split('|')\n",
    "        per[len(r)+a].append(not_r[a])\n",
    "    # Convertir las reglas perturbadas a un string similar al original\n",
    "    reglas_per = {}  # diccionario con las reglas perturbadas a usar\n",
    "    for a in per:\n",
    "        q = ''\n",
    "        for b in per[a]:\n",
    "            q = q + '(' + b + ')' + '|'\n",
    "        if q[:-1] == '':\n",
    "            reglas_per[a] = '0'\n",
    "        else:\n",
    "            reglas_per[a] = q[:-1]\n",
    "\n",
    "    return(reglas_per)\n",
    "\n",
    "regla = regla_tipo_griffin('A&!(B|C)',['A','B','C'])\n",
    "ejemplo = reglas_perturbadas(regla)\n",
    "ejemplo"
   ]
  },
  {
   "cell_type": "code",
   "execution_count": null,
   "id": "d0a4edb2",
   "metadata": {},
   "outputs": [],
   "source": []
  }
 ],
 "metadata": {
  "kernelspec": {
   "display_name": "Python 3 (ipykernel)",
   "language": "python",
   "name": "python3"
  },
  "language_info": {
   "codemirror_mode": {
    "name": "ipython",
    "version": 3
   },
   "file_extension": ".py",
   "mimetype": "text/x-python",
   "name": "python",
   "nbconvert_exporter": "python",
   "pygments_lexer": "ipython3",
   "version": "3.11.5"
  }
 },
 "nbformat": 4,
 "nbformat_minor": 5
}
